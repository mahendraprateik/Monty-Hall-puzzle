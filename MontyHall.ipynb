{
 "cells": [
  {
   "cell_type": "markdown",
   "metadata": {},
   "source": [
    "<h3> Importing package"
   ]
  },
  {
   "cell_type": "code",
   "execution_count": 12,
   "metadata": {},
   "outputs": [],
   "source": [
    "import random\n",
    "import matplotlib.pyplot as plt"
   ]
  },
  {
   "cell_type": "markdown",
   "metadata": {},
   "source": [
    "<h3> Algorithm to play the monty hall game"
   ]
  },
  {
   "cell_type": "code",
   "execution_count": 2,
   "metadata": {},
   "outputs": [],
   "source": [
    "def simulate_monty_hall(switch):\n",
    "    \"\"\"\n",
    "    Function to simulate monty hall game show\n",
    "    \n",
    "    Params:\n",
    "    \n",
    "    switch (Bool): True for switching, False for not\n",
    "    \n",
    "    Returns 1 (win) or 0 (loss)\n",
    "    \"\"\"\n",
    "    \n",
    "    li = [1,2,3]\n",
    "    \n",
    "    #prize simulation\n",
    "    prize = random.choice([1,2,3])\n",
    "    \n",
    "    # choice simulation\n",
    "    choice = random.randint(1,3)\n",
    "    \n",
    "    # Host oopening door\n",
    "    open_door_options = [l for l in li if l != choice and l!= prize]\n",
    "    open_door = random.choice(open_door_options)\n",
    "    \n",
    "    # player deciding to switch    \n",
    "    if switch:\n",
    "        new_choice = [l for l in li if l != choice and l != open_door][0]\n",
    "        if new_choice == prize:\n",
    "            return 1\n",
    "        else:\n",
    "            return 0\n",
    "    else:\n",
    "        if choice == prize:\n",
    "            return 1\n",
    "        else:\n",
    "            return 0"
   ]
  },
  {
   "cell_type": "markdown",
   "metadata": {},
   "source": [
    "<h3> Simulating a million games with and without swtiching"
   ]
  },
  {
   "cell_type": "code",
   "execution_count": 38,
   "metadata": {},
   "outputs": [],
   "source": [
    "def calculate_prob():\n",
    "    \n",
    "    result_switch = []\n",
    "    for i in range(0, 1000000):\n",
    "        result_switch.append(simulate_monty_hall(switch=True))\n",
    "    print('Chances of winning if you switch are: ', sum(result_switch)/len(result_switch))\n",
    "\n",
    "    result_no_switch = []\n",
    "    for i in range(0, 1000000):\n",
    "        result_no_switch.append(simulate_monty_hall(switch=False))\n",
    "    print('Chances of winning if you DONOT switch are: ', sum(result_no_switch)/len(result_no_switch))\n",
    "    \n",
    "    plot_dict = {'Probability (Switch = True)': sum(result_switch)/len(result_switch),\n",
    "                 'Probability (Switch = False)': sum(result_no_switch)/len(result_no_switch)\n",
    "                }\n",
    "    plt.bar(list(plot_dict.keys()), plot_dict.values(), color='gb')\n",
    "    plt.grid(True)\n",
    "    plt.show()"
   ]
  },
  {
   "cell_type": "code",
   "execution_count": 39,
   "metadata": {},
   "outputs": [
    {
     "name": "stdout",
     "output_type": "stream",
     "text": [
      "Chances of winning if you switch are:  0.666176\n",
      "Chances of winning if you DONOT switch are:  0.333003\n"
     ]
    },
    {
     "data": {
      "image/png": "[encoded data removed]",
      "text/plain": [
       "<Figure size 432x288 with 1 Axes>"
      ]
     },
     "metadata": {
      "needs_background": "light"
     },
     "output_type": "display_data"
    }
   ],
   "source": [
    "calculate_prob()"
   ]
  }
 ],
 "metadata": {
  "kernelspec": {
   "display_name": "Python 3",
   "language": "python",
   "name": "python3"
  },
  "language_info": {
   "codemirror_mode": {
    "name": "ipython",
    "version": 3
   },
   "file_extension": ".py",
   "mimetype": "text/x-python",
   "name": "python",
   "nbconvert_exporter": "python",
   "pygments_lexer": "ipython3",
   "version": "3.7.4"
  }
 },
 "nbformat": 4,
 "nbformat_minor": 2
}
